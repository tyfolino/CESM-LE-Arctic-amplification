{
 "cells": [
  {
   "cell_type": "markdown",
   "id": "d177caba-0b2b-42b8-bedf-a625d19d7f5e",
   "metadata": {
    "tags": []
   },
   "source": [
    "# Scratch notebook for checking July initialization feedbacks\n",
    "\n",
    "By: Ty Janoski\n",
    "Updated: 10.13.21\n",
    "\n",
    "## Set-up"
   ]
  },
  {
   "cell_type": "code",
   "execution_count": 2,
   "id": "0ee84381-678b-461c-b4a0-222f169030c3",
   "metadata": {},
   "outputs": [],
   "source": [
    "# import statements\n",
    "\n",
    "import xarray as xr\n",
    "import matplotlib.pyplot as plt\n",
    "import numpy as np\n",
    "from dask.diagnostics import ProgressBar\n",
    "\n",
    "%matplotlib inline\n",
    "%config InlineBackend.figure_format = \"pdf\""
   ]
  },
  {
   "cell_type": "code",
   "execution_count": 7,
   "id": "5d10b789-50a4-4815-bda7-122b3390e6a6",
   "metadata": {},
   "outputs": [],
   "source": [
    "# read in cell area file for taking spatial averages\n",
    "areacella = xr.open_dataarray('/dx01/janoski/cesm/output/gridarea.nc')"
   ]
  },
  {
   "cell_type": "code",
   "execution_count": 29,
   "id": "42d91533-8ae8-437e-8bd5-2484081a187a",
   "metadata": {},
   "outputs": [],
   "source": [
    "# create function for taking spatial averages, while weighting for latitude\n",
    "def spav(ds_in, areacella=areacella, lat_bound_s = -91, lat_bound_n = 91):\n",
    "    \"\"\"\n",
    "    Use xarray/numpy to calculate spatial average while weighting for latitude.\n",
    "    \n",
    "    Keyword arguments:\n",
    "    ds_in -- Dataset or DataArray to take the average of with coords lat and lon\n",
    "    areacella -- Dataset or DataArray containing the grid cell area with coords lat and lon\n",
    "    lat_bound_s -- float, Southern boundary of area to average\n",
    "    lat_bound_n -- float, Northern boundary of area to average\n",
    "    \"\"\"\n",
    "    ds_in = ds_in.sel(lat=slice(lat_bound_s,lat_bound_n))\n",
    "    areacella = areacella.sel(lat=slice(lat_bound_s,lat_bound_n))\n",
    "    out = (ds_in*(areacella/areacella.sum(dim=['lat','lon']))).sum(dim=['lat','lon'])\n",
    "    return(out)"
   ]
  },
  {
   "cell_type": "code",
   "execution_count": 8,
   "id": "2c97ad52-ceef-4a9c-b6e1-9eb3519c22a6",
   "metadata": {},
   "outputs": [],
   "source": [
    "def preprocess(ds):\n",
    "    dsnew = ds.copy()\n",
    "    dsnew['time'] = np.arange(1,731,1)\n",
    "    return dsnew\n",
    "\n",
    "alb = xr.open_mfdataset('/dx02/janoski/cesm/vert_int_feedbacks/'+\n",
    "                        'b40.1850.cam5-lens.07.*.h1_alb_rad_perturbs.nc',\n",
    "                       preprocess=preprocess,combine='nested',concat_dim='ens')"
   ]
  },
  {
   "cell_type": "code",
   "execution_count": 23,
   "id": "73007561-08b7-45b4-9c1c-90f8c2815a61",
   "metadata": {},
   "outputs": [
    {
     "name": "stdout",
     "output_type": "stream",
     "text": [
      "[########################################] | 100% Completed |  3min  4.8s\n"
     ]
    }
   ],
   "source": [
    "arc = spatial_mean(alb,lat_bound_s=70)\n",
    "with ProgressBar():\n",
    "    arc = arc.compute()"
   ]
  },
  {
   "cell_type": "code",
   "execution_count": 30,
   "id": "362c01af-fa5d-451d-be7f-154d2f183663",
   "metadata": {},
   "outputs": [
    {
     "name": "stdout",
     "output_type": "stream",
     "text": [
      "[########################################] | 100% Completed |  1min  7.5s\n"
     ]
    }
   ],
   "source": [
    "arc2 = spav(alb,lat_bound_s=70)\n",
    "with ProgressBar():\n",
    "    arc2 = arc2.compute()"
   ]
  },
  {
   "cell_type": "code",
   "execution_count": 31,
   "id": "2d46226b-35b0-4118-9065-cf7ebd5d0d33",
   "metadata": {},
   "outputs": [
    {
     "data": {
      "text/plain": [
       "[<matplotlib.lines.Line2D at 0x7fd98f6a4bb0>]"
      ]
     },
     "execution_count": 31,
     "metadata": {},
     "output_type": "execute_result"
    },
    {
     "data": {
      "application/pdf": "[encoded data removed]",
      "text/plain": [
       "<Figure size 432x288 with 1 Axes>"
      ]
     },
     "metadata": {
      "needs_background": "light"
     },
     "output_type": "display_data"
    }
   ],
   "source": [
    "arc.FSNT.isel(ens=0).plot()\n",
    "arc2.FSNT.isel(ens=0).plot(linestyle='dashdot')"
   ]
  },
  {
   "cell_type": "code",
   "execution_count": null,
   "id": "b29d0b8e-448b-43d3-85d1-ecb6ebe57be4",
   "metadata": {},
   "outputs": [],
   "source": []
  }
 ],
 "metadata": {
  "kernelspec": {
   "display_name": "clim_env",
   "language": "python",
   "name": "clim_env"
  },
  "language_info": {
   "codemirror_mode": {
    "name": "ipython",
    "version": 3
   },
   "file_extension": ".py",
   "mimetype": "text/x-python",
   "name": "python",
   "nbconvert_exporter": "python",
   "pygments_lexer": "ipython3",
   "version": "3.9.7"
  }
 },
 "nbformat": 4,
 "nbformat_minor": 5
}

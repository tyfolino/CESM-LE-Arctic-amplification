{
 "cells": [
  {
   "cell_type": "code",
   "execution_count": 2,
   "id": "a3082da7-338f-4c36-9d01-e79d6a488644",
   "metadata": {},
   "outputs": [
    {
     "name": "stderr",
     "output_type": "stream",
     "text": [
      "Cannot import USCOUNTIES and USSTATES without Cartopy installed.\n"
     ]
    }
   ],
   "source": [
    "%matplotlib inline\n",
    "import numpy as np\n",
    "import matplotlib.pyplot as plt\n",
    "import xarray as xr\n",
    "from metpy.plots import SkewT\n",
    "import climlab"
   ]
  },
  {
   "cell_type": "code",
   "execution_count": 3,
   "id": "ab9649ca-b6eb-4ed4-b9b3-757f398ebfa9",
   "metadata": {},
   "outputs": [],
   "source": [
    "#  This code is used just to create the skew-T plot of global, annual mean air temperature\n",
    "ncep_url = \"http://www.esrl.noaa.gov/psd/thredds/dodsC/Datasets/ncep.reanalysis.derived/\"\n",
    "ncep_air = xr.open_dataset( ncep_url + \"pressure/air.mon.1981-2010.ltm.nc\", use_cftime=True)\n",
    "#  Take global, annual average \n",
    "coslat = np.cos(np.deg2rad(ncep_air.lat))\n",
    "weight = coslat / coslat.mean(dim='lat')\n",
    "Tglobal = (ncep_air.air * weight).mean(dim=('lat','lon','time'))\n",
    "\n",
    "#  Resuable function to plot the temperature data on a Skew-T chart\n",
    "def make_skewT():\n",
    "    fig = plt.figure(figsize=(9, 9))\n",
    "    skew = SkewT(fig, rotation=30)\n",
    "    skew.plot(Tglobal.level, Tglobal, color='black', linestyle='-', linewidth=2, label='Observations')\n",
    "    skew.ax.set_ylim(1050, 10)\n",
    "    skew.ax.set_xlim(-90, 45)\n",
    "    # Add the relevant special lines\n",
    "    skew.plot_dry_adiabats(linewidth=0.5)\n",
    "    skew.plot_moist_adiabats(linewidth=0.5)\n",
    "    #skew.plot_mixing_lines()\n",
    "    skew.ax.legend()\n",
    "    skew.ax.set_xlabel('Temperature (degC)', fontsize=14)\n",
    "    skew.ax.set_ylabel('Pressure (hPa)', fontsize=14)\n",
    "    return skew\n",
    "\n",
    "#  and a function to add extra profiles to this chart\n",
    "def add_profile(skew, model, linestyle='-', color=None):\n",
    "    line = skew.plot(model.lev, model.Tatm - climlab.constants.tempCtoK,\n",
    "             label=model.name, linewidth=2)[0]\n",
    "    skew.plot(1000, model.Ts - climlab.constants.tempCtoK, 'o', \n",
    "              markersize=8, color=line.get_color())\n",
    "    skew.ax.legend()\n",
    "\n",
    "# Get the water vapor data from CESM output\n",
    "cesm_data_path = \"http://thredds.atmos.albany.edu:8080/thredds/dodsC/CESMA/\"\n",
    "atm_control = xr.open_dataset(cesm_data_path + \"cpl_1850_f19/concatenated/cpl_1850_f19.cam.h0.nc\")\n",
    "# Take global, annual average of the specific humidity\n",
    "weight_factor = atm_control.gw / atm_control.gw.mean(dim='lat')\n",
    "Qglobal = (atm_control.Q * weight_factor).mean(dim=('lat','lon','time'))"
   ]
  },
  {
   "cell_type": "code",
   "execution_count": 35,
   "id": "f8d0eb64-3fb4-4734-addb-aa9a0f85f6d5",
   "metadata": {},
   "outputs": [
    {
     "name": "stdout",
     "output_type": "stream",
     "text": [
      "Opened data from /home/janoski/miniconda3/lib/python3.8/site-packages/climlab/radiation/data/ozone/apeozone_cam3_5_54.nc\n"
     ]
    }
   ],
   "source": [
    "#  Make a model on same vertical domain as the GCM\n",
    "mystate = climlab.column_state(lev=Qglobal.lev, water_depth=2.5)\n",
    "#  Build the radiation model -- just like we already did\n",
    "rad = climlab.radiation.RRTMG(name='Radiation',\n",
    "                              state=mystate, \n",
    "                              specific_humidity=Qglobal.values,\n",
    "                              timestep = climlab.constants.seconds_per_day,\n",
    "                              albedo = 0.25,  # surface albedo, tuned to give reasonable ASR for reference cloud-free model\n",
    "                             )\n",
    "#  Now create the convection model\n",
    "conv = climlab.convection.ConvectiveAdjustment(name='Convection',\n",
    "                                               state=mystate,\n",
    "                                               adj_lapse_rate=6.5,\n",
    "                                               timestep=rad.timestep,\n",
    "                                              )\n",
    "#  Here is where we build the model by coupling together the two components\n",
    "rcm = climlab.couple([rad, conv], name='Radiative-Convective Model')"
   ]
  },
  {
   "cell_type": "code",
   "execution_count": 10,
   "id": "e7054cf0-1ccd-42b8-932e-74fa60e38530",
   "metadata": {},
   "outputs": [
    {
     "name": "stdout",
     "output_type": "stream",
     "text": [
      "Integrating for 1826 steps, 1826.2110000000002 days, or 5 years.\n",
      "Total elapsed time is 4.999422301147019 years.\n"
     ]
    }
   ],
   "source": [
    "rcm.integrate_years(5)"
   ]
  },
  {
   "cell_type": "code",
   "execution_count": 11,
   "id": "ea0068a4-36f6-4e33-ad7b-6e26572b9b62",
   "metadata": {},
   "outputs": [],
   "source": [
    "# Make an exact clone with same temperatures\n",
    "rcm_2xCO2 = climlab.process_like(rcm)\n",
    "rcm_2xCO2.name = 'Radiative-Convective Model (2xCO2 initial)'"
   ]
  },
  {
   "cell_type": "code",
   "execution_count": 12,
   "id": "e2bb6099-e454-4053-a9db-1b3cb747c4e7",
   "metadata": {},
   "outputs": [],
   "source": [
    "#  Now double it!\n",
    "rcm_2xCO2.subprocess['Radiation'].absorber_vmr['CO2'] *= 2"
   ]
  },
  {
   "cell_type": "code",
   "execution_count": 13,
   "id": "033b73f5-70fc-406c-b14a-6dcbf5c07b38",
   "metadata": {},
   "outputs": [
    {
     "data": {
      "text/plain": [
       "0.000696"
      ]
     },
     "execution_count": 13,
     "metadata": {},
     "output_type": "execute_result"
    }
   ],
   "source": [
    "#  and verify\n",
    "rcm_2xCO2.subprocess['Radiation'].absorber_vmr['CO2']"
   ]
  },
  {
   "cell_type": "code",
   "execution_count": 14,
   "id": "e007183d-691a-4fb2-a248-7907bce98ccc",
   "metadata": {},
   "outputs": [],
   "source": [
    "rcm_2xCO2.compute_diagnostics()"
   ]
  },
  {
   "cell_type": "code",
   "execution_count": 18,
   "id": "46af1da9-903e-463e-aa01-0bac4a95196e",
   "metadata": {},
   "outputs": [
    {
     "data": {
      "text/plain": [
       "Field([2.17732704])"
      ]
     },
     "execution_count": 18,
     "metadata": {},
     "output_type": "execute_result"
    }
   ],
   "source": [
    "DeltaR_instant = (rcm_2xCO2.ASR - rcm_2xCO2.OLR) - (rcm.ASR - rcm.OLR)\n",
    "DeltaR_instant"
   ]
  },
  {
   "cell_type": "code",
   "execution_count": 19,
   "id": "9d514884-acdb-4683-8a27-bbcea7b6cf91",
   "metadata": {},
   "outputs": [
    {
     "data": {
      "text/plain": [
       "Field([-1.87053626])"
      ]
     },
     "execution_count": 19,
     "metadata": {},
     "output_type": "execute_result"
    }
   ],
   "source": [
    "rcm_2xCO2.LW_sfc - rcm.LW_sfc"
   ]
  },
  {
   "cell_type": "code",
   "execution_count": 20,
   "id": "c2c3eafa-7f99-4d26-b1a5-1ac8e2683ce7",
   "metadata": {},
   "outputs": [
    {
     "data": {
      "text/plain": [
       "Field([-0.19846624])"
      ]
     },
     "execution_count": 20,
     "metadata": {},
     "output_type": "execute_result"
    }
   ],
   "source": [
    "rcm_2xCO2.SW_sfc - rcm.SW_sfc"
   ]
  },
  {
   "cell_type": "code",
   "execution_count": 37,
   "id": "a0c553a5-4645-4d9f-8f1d-f784ec5d8dcd",
   "metadata": {},
   "outputs": [
    {
     "data": {
      "text/plain": [
       "Field([74.8107013])"
      ]
     },
     "execution_count": 37,
     "metadata": {},
     "output_type": "execute_result"
    }
   ],
   "source": [
    "rcm_2xCO2.LW_sfc"
   ]
  },
  {
   "cell_type": "code",
   "execution_count": null,
   "id": "e45a7ee5-6ad7-44a3-8499-a25cef4e1a38",
   "metadata": {},
   "outputs": [],
   "source": []
  }
 ],
 "metadata": {
  "kernelspec": {
   "display_name": "Python 3",
   "language": "python",
   "name": "python3"
  },
  "language_info": {
   "codemirror_mode": {
    "name": "ipython",
    "version": 3
   },
   "file_extension": ".py",
   "mimetype": "text/x-python",
   "name": "python",
   "nbconvert_exporter": "python",
   "pygments_lexer": "ipython3",
   "version": "3.7.10"
  }
 },
 "nbformat": 4,
 "nbformat_minor": 5
}

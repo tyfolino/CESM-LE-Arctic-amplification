{
 "cells": [
  {
   "cell_type": "markdown",
   "metadata": {
    "tags": []
   },
   "source": [
    "# Surface Heat Flux/Ocean Heat Uptake\n",
    "\n",
    "By: Ty Janoski\n",
    "Updated: 12.30.21"
   ]
  },
  {
   "cell_type": "markdown",
   "metadata": {
    "tags": []
   },
   "source": [
    "## Set-up"
   ]
  },
  {
   "cell_type": "code",
   "execution_count": 1,
   "metadata": {},
   "outputs": [],
   "source": [
    "# Import libraries and make svg images the default for inline plots\n",
    "\n",
    "%matplotlib inline\n",
    "%config InlineBackend.figure_format = \"pdf\"\n",
    "import xarray as xr\n",
    "import numpy as np\n",
    "import matplotlib.pyplot as plt\n",
    "from dask.diagnostics import ProgressBar"
   ]
  },
  {
   "cell_type": "code",
   "execution_count": 2,
   "metadata": {},
   "outputs": [],
   "source": [
    "# create function for reading in cesm-LE output\n",
    "# note: each ensemble member starts on a different year\n",
    "# please keep this in mind when combining datasets\n",
    "def read_in(exp,mon,ens,var):\n",
    "    \"\"\"\n",
    "    Use xarray to read in a netCDF file.\n",
    "\n",
    "    Keyword arguments:\n",
    "    exp -- CO2 scenario\n",
    "    mon -- starting month in which CO2 is altered\n",
    "    ens -- ensemble number\n",
    "    var -- model output variable\n",
    "    \"\"\"\n",
    "    filein = '/dx01/janoski/cesm/output/b40.1850.cam5-lens.'+exp+'.'+str(\n",
    "        f\"{mon:02d}\")+'.'+str(f\"{ens:02d}\")+'.h1_'+var+'.nc'\n",
    "    return(xr.open_dataset(filein,chunks=None))"
   ]
  },
  {
   "cell_type": "markdown",
   "metadata": {
    "tags": []
   },
   "source": [
    "## Calculations\n",
    "\n",
    "We define the net surface heat flux as the following:   \n",
    "F$_{sfc}$ = F$_{LW}$ + F$_{SH}$ + F$_{LH}$ - F$_{SW}$   \n",
    "where longwave, latent heat, and sensible heat flux are defined positive upwards, and shortwave is positive downwards."
   ]
  },
  {
   "cell_type": "code",
   "execution_count": 4,
   "metadata": {},
   "outputs": [
    {
     "name": "stdout",
     "output_type": "stream",
     "text": [
      "10\n",
      "20\n",
      "30\n",
      "40\n",
      "50\n",
      "60\n",
      "70\n",
      "80\n",
      "90\n",
      "100\n"
     ]
    }
   ],
   "source": [
    "m=1\n",
    "# m=7\n",
    "\n",
    "# iterate through every ensemble member\n",
    "for e in range(1,101,1):\n",
    "    if(e%10==0):\n",
    "        print(e)\n",
    "    # get control surface heat flux\n",
    "    FLNS_ctrl = read_in('ctrl',m,e,'FLNS').FLNS\n",
    "    FSNS_ctrl = read_in('ctrl',m,e,'FSNS').FSNS\n",
    "    SHFLX_ctrl = read_in('ctrl',m,e,'SHFLX').SHFLX\n",
    "    LHFLX_ctrl = read_in('ctrl',m,e,'LHFLX').LHFLX\n",
    "    \n",
    "    Fsfc_ctrl = FLNS_ctrl + SHFLX_ctrl + LHFLX_ctrl - FSNS_ctrl\n",
    "\n",
    "    # same for 4xCO2\n",
    "    FLNS_exp = read_in('4xCO2',m,e,'FLNS').FLNS\n",
    "    FSNS_exp = read_in('4xCO2',m,e,'FSNS').FSNS\n",
    "    SHFLX_exp = read_in('4xCO2',m,e,'SHFLX').SHFLX\n",
    "    LHFLX_exp = read_in('4xCO2',m,e,'LHFLX').LHFLX\n",
    "\n",
    "    Fsfc_exp = FLNS_exp + SHFLX_exp + LHFLX_exp - FSNS_exp\n",
    "\n",
    "    # find difference\n",
    "    dFLNS = FLNS_exp - FLNS_ctrl\n",
    "    dFSNS = FSNS_ctrl - FSNS_exp # reverse to be consistent with up = positive\n",
    "    dSHFLX = SHFLX_exp - SHFLX_ctrl\n",
    "    dLHFLX = LHFLX_exp - LHFLX_ctrl\n",
    "    dFsfc = Fsfc_exp - Fsfc_ctrl\n",
    "    \n",
    "    out = xr.merge([dFsfc.rename('dFsfc'),dFLNS.rename('dFLNS'),dFSNS.rename('dFSNS'),dSHFLX.rename('dSHFLX'),dLHFLX.rename('dLHFLX')])\n",
    "\n",
    "    # save out\n",
    "    pathout = '/dx02/janoski/cesm/vert_int_feedbacks/b40.1850.cam5-lens.'+str(\n",
    "            f\"{m:02d}\")+'.'+str(f\"{e:02d}\")+'.h1_Fsfc.nc'\n",
    "    \n",
    "    out.to_netcdf(pathout)"
   ]
  },
  {
   "cell_type": "code",
   "execution_count": null,
   "metadata": {},
   "outputs": [],
   "source": []
  }
 ],
 "metadata": {
  "kernelspec": {
   "display_name": "Python 3 (ipykernel)",
   "language": "python",
   "name": "python3"
  },
  "language_info": {
   "codemirror_mode": {
    "name": "ipython",
    "version": 3
   },
   "file_extension": ".py",
   "mimetype": "text/x-python",
   "name": "python",
   "nbconvert_exporter": "python",
   "pygments_lexer": "ipython3",
   "version": "3.9.9"
  }
 },
 "nbformat": 4,
 "nbformat_minor": 4
}

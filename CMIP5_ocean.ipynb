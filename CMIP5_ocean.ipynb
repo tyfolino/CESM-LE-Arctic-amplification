{
 "cells": [
  {
   "cell_type": "markdown",
   "id": "452e1ea6-ee1d-4286-b77a-52ec7be97d58",
   "metadata": {},
   "source": [
    "## CMIP5 Ocean Heat Uptake Comparison\n",
    "\n",
    "### By: Ty Janoski\n",
    "### Updated: 05.20.21"
   ]
  },
  {
   "cell_type": "code",
   "execution_count": 1,
   "id": "ab0f47d9-d77a-457a-9181-e2aaf172f561",
   "metadata": {},
   "outputs": [],
   "source": [
    "# import statments\n",
    "\n",
    "import xarray as xr\n",
    "import xesmf as xe\n",
    "import matplotlib.pyplot as plt\n",
    "from cftime import DatetimeNoLeap\n",
    "from itertools import product\n",
    "import numpy as np\n",
    "%matplotlib inline\n",
    "%config InlineBackend.figure_format = \"pdf\""
   ]
  },
  {
   "cell_type": "code",
   "execution_count": 2,
   "id": "06c53d18-99ca-4493-83fd-d994c526155a",
   "metadata": {},
   "outputs": [],
   "source": [
    "# create function for taking spatial averages, while weighting for latitude\n",
    "def spatial_mean(ds_in, lat_bound_s = -91, lat_bound_n = 91):\n",
    "    \"\"\"\n",
    "    Use xarray/numpy to calculate spatial average while weighting for latitude.\n",
    "    \n",
    "    Keyword arguments:\n",
    "    ds_in -- Dataset or DataArray to take the average of\n",
    "    lat_bound_s -- float, Southern boundary of area to average\n",
    "    lat_bound_n -- float, Northern boundary of area to average\n",
    "    \"\"\"\n",
    "    zonal = ds_in.mean(dim='lon').sel(lat=slice(lat_bound_s,lat_bound_n))\n",
    "    weights = np.cos(np.deg2rad(zonal.lat)) / np.sum(np.cos(np.deg2rad(zonal.lat)))\n",
    "    return((zonal * weights).sum(dim='lat'))"
   ]
  },
  {
   "cell_type": "code",
   "execution_count": 3,
   "id": "4506eab0-a567-4da0-8025-22265989090e",
   "metadata": {},
   "outputs": [],
   "source": [
    "dates = [DatetimeNoLeap(year,month,15) for year, month in product(range(1,51), range(1,13))]\n",
    "\n",
    "# we need lat and lon from any CESM-LE file\n",
    "dummy = xr.open_dataset('/dx05/janoski/d10/Arctic_Research/cesm-LE/output/b40.1850.cam5-lens.4xCO2.01.01.h1_PS.nc')\n",
    "\n",
    "\n",
    "# make dataarray to regrid too\n",
    "ds_out = xr.Dataset({'lat': (['lat'], dummy.lat),\n",
    "                     'lon': (['lon'], dummy.lon),\n",
    "                    }\n",
    "                   )\n",
    "\n",
    "del dummy"
   ]
  },
  {
   "cell_type": "markdown",
   "id": "dfc14882-18ee-408e-9dea-e00283b8e7c2",
   "metadata": {},
   "source": [
    "## The following method uses the air-to-sea flux variable output by the models."
   ]
  },
  {
   "cell_type": "code",
   "execution_count": 15,
   "id": "459da739-7d34-474a-ad95-f7906c43ae2d",
   "metadata": {},
   "outputs": [
    {
     "name": "stdout",
     "output_type": "stream",
     "text": [
      "BNU-ESM\n"
     ]
    },
    {
     "name": "stderr",
     "output_type": "stream",
     "text": [
      "/home/janoski/miniconda3/envs/esmpy_env/lib/python3.7/site-packages/xarray/core/dataarray.py:746: FutureWarning: elementwise comparison failed; returning scalar instead, but in the future will perform elementwise comparison\n",
      "  return key in self.data\n",
      "/home/janoski/miniconda3/envs/esmpy_env/lib/python3.7/site-packages/xesmf/frontend.py:478: FutureWarning: ``output_sizes`` should be given in the ``dask_gufunc_kwargs`` parameter. It will be removed as direct parameter in a future version.\n",
      "  keep_attrs=keep_attrs,\n"
     ]
    },
    {
     "name": "stdout",
     "output_type": "stream",
     "text": [
      "CCSM4\n"
     ]
    },
    {
     "name": "stderr",
     "output_type": "stream",
     "text": [
      "/home/janoski/miniconda3/envs/esmpy_env/lib/python3.7/site-packages/xarray/core/dataarray.py:746: FutureWarning: elementwise comparison failed; returning scalar instead, but in the future will perform elementwise comparison\n",
      "  return key in self.data\n",
      "/home/janoski/miniconda3/envs/esmpy_env/lib/python3.7/site-packages/xesmf/frontend.py:478: FutureWarning: ``output_sizes`` should be given in the ``dask_gufunc_kwargs`` parameter. It will be removed as direct parameter in a future version.\n",
      "  keep_attrs=keep_attrs,\n"
     ]
    },
    {
     "name": "stdout",
     "output_type": "stream",
     "text": [
      "CSIRO-Mk3-6-0\n"
     ]
    },
    {
     "name": "stderr",
     "output_type": "stream",
     "text": [
      "/home/janoski/miniconda3/envs/esmpy_env/lib/python3.7/site-packages/xarray/core/dataarray.py:746: FutureWarning: elementwise comparison failed; returning scalar instead, but in the future will perform elementwise comparison\n",
      "  return key in self.data\n",
      "/home/janoski/miniconda3/envs/esmpy_env/lib/python3.7/site-packages/xesmf/frontend.py:478: FutureWarning: ``output_sizes`` should be given in the ``dask_gufunc_kwargs`` parameter. It will be removed as direct parameter in a future version.\n",
      "  keep_attrs=keep_attrs,\n"
     ]
    },
    {
     "name": "stdout",
     "output_type": "stream",
     "text": [
      "GFDL-CM3\n"
     ]
    },
    {
     "name": "stderr",
     "output_type": "stream",
     "text": [
      "/home/janoski/miniconda3/envs/esmpy_env/lib/python3.7/site-packages/xarray/core/dataarray.py:746: FutureWarning: elementwise comparison failed; returning scalar instead, but in the future will perform elementwise comparison\n",
      "  return key in self.data\n",
      "/home/janoski/miniconda3/envs/esmpy_env/lib/python3.7/site-packages/xesmf/frontend.py:478: FutureWarning: ``output_sizes`` should be given in the ``dask_gufunc_kwargs`` parameter. It will be removed as direct parameter in a future version.\n",
      "  keep_attrs=keep_attrs,\n"
     ]
    },
    {
     "name": "stdout",
     "output_type": "stream",
     "text": [
      "MIROC5\n"
     ]
    },
    {
     "name": "stderr",
     "output_type": "stream",
     "text": [
      "/home/janoski/miniconda3/envs/esmpy_env/lib/python3.7/site-packages/xarray/core/dataarray.py:746: FutureWarning: elementwise comparison failed; returning scalar instead, but in the future will perform elementwise comparison\n",
      "  return key in self.data\n",
      "/home/janoski/miniconda3/envs/esmpy_env/lib/python3.7/site-packages/xesmf/frontend.py:478: FutureWarning: ``output_sizes`` should be given in the ``dask_gufunc_kwargs`` parameter. It will be removed as direct parameter in a future version.\n",
      "  keep_attrs=keep_attrs,\n"
     ]
    },
    {
     "name": "stdout",
     "output_type": "stream",
     "text": [
      "MPI-ESM-LR\n"
     ]
    },
    {
     "name": "stderr",
     "output_type": "stream",
     "text": [
      "/home/janoski/miniconda3/envs/esmpy_env/lib/python3.7/site-packages/xarray/core/dataarray.py:746: FutureWarning: elementwise comparison failed; returning scalar instead, but in the future will perform elementwise comparison\n",
      "  return key in self.data\n",
      "/home/janoski/miniconda3/envs/esmpy_env/lib/python3.7/site-packages/xesmf/frontend.py:478: FutureWarning: ``output_sizes`` should be given in the ``dask_gufunc_kwargs`` parameter. It will be removed as direct parameter in a future version.\n",
      "  keep_attrs=keep_attrs,\n"
     ]
    },
    {
     "name": "stdout",
     "output_type": "stream",
     "text": [
      "MPI-ESM-MR\n"
     ]
    },
    {
     "name": "stderr",
     "output_type": "stream",
     "text": [
      "/home/janoski/miniconda3/envs/esmpy_env/lib/python3.7/site-packages/xarray/core/dataarray.py:746: FutureWarning: elementwise comparison failed; returning scalar instead, but in the future will perform elementwise comparison\n",
      "  return key in self.data\n",
      "/home/janoski/miniconda3/envs/esmpy_env/lib/python3.7/site-packages/xesmf/frontend.py:478: FutureWarning: ``output_sizes`` should be given in the ``dask_gufunc_kwargs`` parameter. It will be removed as direct parameter in a future version.\n",
      "  keep_attrs=keep_attrs,\n"
     ]
    },
    {
     "name": "stdout",
     "output_type": "stream",
     "text": [
      "MPI-ESM-P\n"
     ]
    },
    {
     "name": "stderr",
     "output_type": "stream",
     "text": [
      "/home/janoski/miniconda3/envs/esmpy_env/lib/python3.7/site-packages/xarray/core/dataarray.py:746: FutureWarning: elementwise comparison failed; returning scalar instead, but in the future will perform elementwise comparison\n",
      "  return key in self.data\n",
      "/home/janoski/miniconda3/envs/esmpy_env/lib/python3.7/site-packages/xesmf/frontend.py:478: FutureWarning: ``output_sizes`` should be given in the ``dask_gufunc_kwargs`` parameter. It will be removed as direct parameter in a future version.\n",
      "  keep_attrs=keep_attrs,\n"
     ]
    },
    {
     "name": "stdout",
     "output_type": "stream",
     "text": [
      "MRI-CGCM3\n"
     ]
    },
    {
     "name": "stderr",
     "output_type": "stream",
     "text": [
      "/home/janoski/miniconda3/envs/esmpy_env/lib/python3.7/site-packages/xarray/core/dataarray.py:746: FutureWarning: elementwise comparison failed; returning scalar instead, but in the future will perform elementwise comparison\n",
      "  return key in self.data\n",
      "/home/janoski/miniconda3/envs/esmpy_env/lib/python3.7/site-packages/xesmf/frontend.py:478: FutureWarning: ``output_sizes`` should be given in the ``dask_gufunc_kwargs`` parameter. It will be removed as direct parameter in a future version.\n",
      "  keep_attrs=keep_attrs,\n"
     ]
    },
    {
     "name": "stdout",
     "output_type": "stream",
     "text": [
      "NorESM1-M\n"
     ]
    },
    {
     "name": "stderr",
     "output_type": "stream",
     "text": [
      "/home/janoski/miniconda3/envs/esmpy_env/lib/python3.7/site-packages/xarray/core/dataarray.py:746: FutureWarning: elementwise comparison failed; returning scalar instead, but in the future will perform elementwise comparison\n",
      "  return key in self.data\n",
      "/home/janoski/miniconda3/envs/esmpy_env/lib/python3.7/site-packages/xesmf/frontend.py:478: FutureWarning: ``output_sizes`` should be given in the ``dask_gufunc_kwargs`` parameter. It will be removed as direct parameter in a future version.\n",
      "  keep_attrs=keep_attrs,\n"
     ]
    },
    {
     "name": "stdout",
     "output_type": "stream",
     "text": [
      "bcc-csm1-1\n"
     ]
    },
    {
     "name": "stderr",
     "output_type": "stream",
     "text": [
      "/home/janoski/miniconda3/envs/esmpy_env/lib/python3.7/site-packages/xarray/core/dataarray.py:746: FutureWarning: elementwise comparison failed; returning scalar instead, but in the future will perform elementwise comparison\n",
      "  return key in self.data\n",
      "/home/janoski/miniconda3/envs/esmpy_env/lib/python3.7/site-packages/xesmf/frontend.py:478: FutureWarning: ``output_sizes`` should be given in the ``dask_gufunc_kwargs`` parameter. It will be removed as direct parameter in a future version.\n",
      "  keep_attrs=keep_attrs,\n"
     ]
    },
    {
     "name": "stdout",
     "output_type": "stream",
     "text": [
      "inmcm4\n"
     ]
    },
    {
     "name": "stderr",
     "output_type": "stream",
     "text": [
      "/home/janoski/miniconda3/envs/esmpy_env/lib/python3.7/site-packages/xarray/core/dataarray.py:746: FutureWarning: elementwise comparison failed; returning scalar instead, but in the future will perform elementwise comparison\n",
      "  return key in self.data\n",
      "/home/janoski/miniconda3/envs/esmpy_env/lib/python3.7/site-packages/xesmf/frontend.py:478: FutureWarning: ``output_sizes`` should be given in the ``dask_gufunc_kwargs`` parameter. It will be removed as direct parameter in a future version.\n",
      "  keep_attrs=keep_attrs,\n"
     ]
    }
   ],
   "source": [
    "# iterate through models\n",
    "models = ['BNU-ESM','CCSM4','CSIRO-Mk3-6-0','GFDL-CM3','MIROC5','MPI-ESM-LR','MPI-ESM-MR',\n",
    "         'MPI-ESM-P','MRI-CGCM3','NorESM1-M','bcc-csm1-1','inmcm4']\n",
    "\n",
    "diff_list = []\n",
    "for m in models:\n",
    "    print(m)\n",
    "    hfds = xr.open_mfdataset('/dx05/janoski/d10/Arctic_Research/CMIP5/piControl/hfds_Omon_'+m+'*.nc',decode_times=False).isel(time=slice(-600,None)).hfds.load()\n",
    "    regridder = xe.Regridder(hfds, ds_out, 'bilinear',periodic=True)\n",
    "    hfds['time'] = dates\n",
    "    clim = hfds.groupby(hfds.time.dt.month).mean(dim='time')\n",
    "    \n",
    "    hfds = xr.open_mfdataset('/dx05/janoski/d10/Arctic_Research/CMIP5/abrupt4xCO2/hfds_Omon_'+m+'*.nc',decode_times=False).isel(time=slice(None,24)).hfds.load()\n",
    "    diff = hfds - np.tile(clim,(2,1,1))\n",
    "    diff['time'] = np.arange(1,len(diff.time)+1,1)\n",
    "    \n",
    "    diff_list.append(regridder(diff))"
   ]
  },
  {
   "cell_type": "code",
   "execution_count": 16,
   "id": "a11187db-7c73-4b38-b2cf-fc815570a56a",
   "metadata": {},
   "outputs": [],
   "source": [
    "diffs = xr.concat(diff_list,dim='model')\n",
    "diffs['model'] = models"
   ]
  },
  {
   "cell_type": "code",
   "execution_count": 6,
   "id": "621c8a27-1b28-409d-ad16-94b9d88378a1",
   "metadata": {},
   "outputs": [
    {
     "data": {
      "text/plain": [
       "[<matplotlib.lines.Line2D at 0x7f41bbe9f950>]"
      ]
     },
     "execution_count": 6,
     "metadata": {},
     "output_type": "execute_result"
    },
    {
     "data": {
      "application/pdf": "[encoded data removed]",
      "text/plain": [
       "<Figure size 432x288 with 1 Axes>"
      ]
     },
     "metadata": {
      "needs_background": "light"
     },
     "output_type": "display_data"
    }
   ],
   "source": [
    "((-1/3.4 * (spatial_mean(diffs.mean(dim='model'),lat_bound_s=70) - spatial_mean(diffs.mean(dim='model'))))/3.4).plot()"
   ]
  },
  {
   "cell_type": "code",
   "execution_count": 18,
   "id": "18e4901c-0ca9-43e9-a90b-89b701e83162",
   "metadata": {},
   "outputs": [
    {
     "data": {
      "application/pdf": "[encoded data removed]",
      "text/plain": [
       "<Figure size 576x216 with 1 Axes>"
      ]
     },
     "metadata": {
      "needs_background": "light"
     },
     "output_type": "display_data"
    }
   ],
   "source": [
    "# create figure object\n",
    "fig, ax = plt.subplots(figsize=(8,3))\n",
    "\n",
    "xs = np.arange(1,25,1)\n",
    "\n",
    "first_days = np.array([1,4,7,10])\n",
    "\n",
    "x_vals = np.concatenate((first_days,first_days+12))\n",
    "x_labs = np.tile(['Jan 1','Apr 1','Jul 1','Oct 1'],\n",
    "                 (2))\n",
    "\n",
    "# plot 4xCO2 starting in Jan\n",
    "ax.plot(xs, ((-1/3.4 * (spatial_mean(diffs.mean(dim='model'),lat_bound_s=70) - spatial_mean(diffs.mean(dim='model'))))), color='navy',label='OHU')\n",
    "# ax[2,0].set_ylim([-3,14])\n",
    "ax.set_xlim([1,24])\n",
    "\n",
    "ax.tick_params(axis='x', rotation=45,labelsize=8)\n",
    "ax.tick_params(axis='y',labelsize=8)\n",
    "ax.set_ylabel(r'Diff in warming contr. (K)',fontsize=10)\n",
    "ax.hlines(0,1,731,color='black',linestyle=':')\n",
    "# ax[2,0].set_title(r'Change in SAT, 4xCO$_2$ in Jan, 30 ens. members',fontsize=10)\n",
    "ax.legend(loc='upper left',fontsize=8)\n",
    "ax.set_xticks(x_vals)\n",
    "ax.set_xticklabels(x_labs)\n",
    "ax.grid()\n",
    "\n",
    "plt.title('CMIP5 ocean term using air-to-sea flux')\n",
    "plt.tight_layout()\n",
    "plt.show()"
   ]
  },
  {
   "cell_type": "markdown",
   "id": "7773ee1e-ce72-4f42-943e-96a2c7235b1b",
   "metadata": {},
   "source": [
    "## Method using surface fluxes (more analogous to CESM-LE results)"
   ]
  },
  {
   "cell_type": "code",
   "execution_count": 5,
   "id": "fb9d04ab-8287-4f14-847c-fb781080fb7f",
   "metadata": {},
   "outputs": [
    {
     "name": "stdout",
     "output_type": "stream",
     "text": [
      "CSIRO-Mk3-6-0\n",
      "CanESM2\n",
      "GFDL-CM3\n",
      "IPSL-CM5A-LR\n",
      "MIROC5\n",
      "MPI-ESM-LR\n",
      "MPI-ESM-P\n",
      "MRI-CGCM3\n",
      "NorESM1-M\n",
      "bcc-csm1-1\n",
      "inmcm4\n",
      "FGOALS-s2\n"
     ]
    }
   ],
   "source": [
    "# iterate through models\n",
    "models = ['CSIRO-Mk3-6-0','CanESM2','GFDL-CM3','IPSL-CM5A-LR','MIROC5','MPI-ESM-LR',\n",
    "         'MPI-ESM-P','MRI-CGCM3','NorESM1-M','bcc-csm1-1','inmcm4','FGOALS-s2']\n",
    "\n",
    "diff_glb = []\n",
    "diff_arc = []\n",
    "for m in models:\n",
    "    print(m)\n",
    "    # build control climatology\n",
    "    rsus = xr.open_mfdataset('/dx02/janoski/cesm-LE/CMIP5/piControl/rsus_Amon_'+m+'*.nc',decode_times=False).isel(time=slice(-600,None)).rsus\n",
    "    rlus = xr.open_mfdataset('/dx02/janoski/cesm-LE/CMIP5/piControl/rlus_Amon_'+m+'*.nc',decode_times=False).isel(time=slice(-600,None)).rlus\n",
    "    rsds = xr.open_mfdataset('/dx02/janoski/cesm-LE/CMIP5/piControl/rsds_Amon_'+m+'*.nc',decode_times=False).isel(time=slice(-600,None)).rsds\n",
    "    rlds = xr.open_mfdataset('/dx02/janoski/cesm-LE/CMIP5/piControl/rlds_Amon_'+m+'*.nc',decode_times=False).isel(time=slice(-600,None)).rlds\n",
    "    hfss = xr.open_mfdataset('/dx02/janoski/cesm-LE/CMIP5/piControl/hfss_Amon_'+m+'*.nc',decode_times=False).isel(time=slice(-600,None)).hfss\n",
    "    hfls = xr.open_mfdataset('/dx02/janoski/cesm-LE/CMIP5/piControl/hfls_Amon_'+m+'*.nc',decode_times=False).isel(time=slice(-600,None)).hfls\n",
    "    \n",
    "    Fsfc_ctrl = rsus - rsds + rlus - rlds + hfss + hfls\n",
    "    Fsfc_ctrl['time'] = dates\n",
    "    clim = Fsfc_ctrl.groupby(Fsfc_ctrl.time.dt.month).mean(dim='time')\n",
    "    \n",
    "    # read in the same variables from the abrupt4xCO2 simulations\n",
    "    rsus = xr.open_mfdataset('/dx02/janoski/cesm-LE/CMIP5/abrupt4xCO2/rsus_Amon_'+m+'*.nc',decode_times=False).isel(time=slice(None,24)).rsus\n",
    "    rlus = xr.open_mfdataset('/dx02/janoski/cesm-LE/CMIP5/abrupt4xCO2/rlus_Amon_'+m+'*.nc',decode_times=False).isel(time=slice(None,24)).rlus\n",
    "    rsds = xr.open_mfdataset('/dx02/janoski/cesm-LE/CMIP5/abrupt4xCO2/rsds_Amon_'+m+'*.nc',decode_times=False).isel(time=slice(None,24)).rsds\n",
    "    rlds = xr.open_mfdataset('/dx02/janoski/cesm-LE/CMIP5/abrupt4xCO2/rlds_Amon_'+m+'*.nc',decode_times=False).isel(time=slice(None,24)).rlds\n",
    "    hfss = xr.open_mfdataset('/dx02/janoski/cesm-LE/CMIP5/abrupt4xCO2/hfss_Amon_'+m+'*.nc',decode_times=False).isel(time=slice(None,24)).hfss\n",
    "    hfls = xr.open_mfdataset('/dx02/janoski/cesm-LE/CMIP5/abrupt4xCO2/hfls_Amon_'+m+'*.nc',decode_times=False).isel(time=slice(None,24)).hfls\n",
    "    Fsfc_exp = rsus - rsds + rlus - rlds + hfss + hfls\n",
    "    diff = Fsfc_exp - np.tile(clim,(2,1,1))\n",
    "    diff['time'] = np.arange(1,len(diff.time)+1,1)\n",
    "    \n",
    "    # spatial average\n",
    "    diff_glb.append(spatial_mean(diff))\n",
    "    diff_arc.append(spatial_mean(diff,lat_bound_s=70))"
   ]
  },
  {
   "cell_type": "code",
   "execution_count": 8,
   "id": "a1400d5f-c5cd-42fb-8d97-32966694bb74",
   "metadata": {},
   "outputs": [],
   "source": [
    "diff_glb = xr.concat(diff_glb,dim='model')\n",
    "diff_arc = xr.concat(diff_arc,dim='model')"
   ]
  },
  {
   "cell_type": "code",
   "execution_count": 11,
   "id": "51cef8d5-f7cb-4418-808a-e005d3a3ce8f",
   "metadata": {},
   "outputs": [
    {
     "data": {
      "text/plain": [
       "[<matplotlib.lines.Line2D at 0x7f6ee732dc10>]"
      ]
     },
     "execution_count": 11,
     "metadata": {},
     "output_type": "execute_result"
    },
    {
     "data": {
      "application/pdf": "[encoded data removed]",
      "text/plain": [
       "<Figure size 432x288 with 1 Axes>"
      ]
     },
     "metadata": {
      "needs_background": "light"
     },
     "output_type": "display_data"
    }
   ],
   "source": [
    "(diff_arc - diff_glb).mean(dim='model').plot()"
   ]
  },
  {
   "cell_type": "code",
   "execution_count": 19,
   "id": "0c8d9377-565c-4174-a390-40ddba413a7e",
   "metadata": {},
   "outputs": [
    {
     "data": {
      "application/pdf": "[encoded data removed]",
      "text/plain": [
       "<Figure size 576x216 with 1 Axes>"
      ]
     },
     "metadata": {
      "needs_background": "light"
     },
     "output_type": "display_data"
    }
   ],
   "source": [
    "# create figure object\n",
    "fig, ax = plt.subplots(figsize=(8,3))\n",
    "\n",
    "xs = np.arange(1,25,1)\n",
    "\n",
    "first_days = np.array([1,4,7,10])\n",
    "\n",
    "x_vals = np.concatenate((first_days,first_days+12))\n",
    "x_labs = np.tile(['Jan 1','Apr 1','Jul 1','Oct 1'],\n",
    "                 (2))\n",
    "\n",
    "# plot 4xCO2 starting in Jan\n",
    "ax.plot(xs, (1/3.4 * (diff_arc - diff_glb).mean(dim='model')), color='navy',label='OHU')\n",
    "# ax[2,0].set_ylim([-3,14])\n",
    "ax.set_xlim([1,24])\n",
    "\n",
    "ax.tick_params(axis='x', rotation=45,labelsize=8)\n",
    "ax.tick_params(axis='y',labelsize=8)\n",
    "ax.set_ylabel(r'Diff in warming contr. (K)',fontsize=10)\n",
    "ax.hlines(0,1,731,color='black',linestyle=':')\n",
    "ax.legend(loc='upper left',fontsize=8)\n",
    "ax.set_xticks(x_vals)\n",
    "ax.set_xticklabels(x_labs)\n",
    "ax.grid()\n",
    "\n",
    "plt.title('CMIP5 ocean term using surface fluxes')\n",
    "plt.tight_layout()\n",
    "plt.show()"
   ]
  },
  {
   "cell_type": "code",
   "execution_count": null,
   "id": "9135276f-c261-454d-b361-5e870ecad6e8",
   "metadata": {},
   "outputs": [],
   "source": []
  }
 ],
 "metadata": {
  "kernelspec": {
   "display_name": "Python (esmpy_env)",
   "language": "python",
   "name": "esmpy_env"
  },
  "language_info": {
   "codemirror_mode": {
    "name": "ipython",
    "version": 3
   },
   "file_extension": ".py",
   "mimetype": "text/x-python",
   "name": "python",
   "nbconvert_exporter": "python",
   "pygments_lexer": "ipython3",
   "version": "3.7.10"
  }
 },
 "nbformat": 4,
 "nbformat_minor": 5
}
